{
  "nbformat": 4,
  "nbformat_minor": 0,
  "metadata": {
    "colab": {
      "provenance": [],
      "gpuType": "T4",
      "authorship_tag": "ABX9TyPLKRzPLBBAGsbIeOQMv+vW",
      "include_colab_link": true
    },
    "kernelspec": {
      "name": "python3",
      "display_name": "Python 3"
    },
    "language_info": {
      "name": "python"
    },
    "accelerator": "GPU"
  },
  "cells": [
    {
      "cell_type": "markdown",
      "metadata": {
        "id": "view-in-github",
        "colab_type": "text"
      },
      "source": [
        "<a href=\"https://colab.research.google.com/github/Raanakhalil/TTS-chatbot/blob/main/TTS_chatbot.ipynb\" target=\"_parent\"><img src=\"https://colab.research.google.com/assets/colab-badge.svg\" alt=\"Open In Colab\"/></a>"
      ]
    },
    {
      "cell_type": "code",
      "source": [
        "!pip install gtts playsound\n",
        "\n"
      ],
      "metadata": {
        "colab": {
          "base_uri": "https://localhost:8080/"
        },
        "id": "5g9HS2qWE7dL",
        "outputId": "c39e1c0f-d800-4106-b973-cf87cb71d4e1"
      },
      "execution_count": 1,
      "outputs": [
        {
          "output_type": "stream",
          "name": "stdout",
          "text": [
            "Collecting gtts\n",
            "  Downloading gTTS-2.5.3-py3-none-any.whl.metadata (4.1 kB)\n",
            "Collecting playsound\n",
            "  Downloading playsound-1.3.0.tar.gz (7.7 kB)\n",
            "  Preparing metadata (setup.py) ... \u001b[?25l\u001b[?25hdone\n",
            "Requirement already satisfied: requests<3,>=2.27 in /usr/local/lib/python3.10/dist-packages (from gtts) (2.32.3)\n",
            "Requirement already satisfied: click<8.2,>=7.1 in /usr/local/lib/python3.10/dist-packages (from gtts) (8.1.7)\n",
            "Requirement already satisfied: charset-normalizer<4,>=2 in /usr/local/lib/python3.10/dist-packages (from requests<3,>=2.27->gtts) (3.4.0)\n",
            "Requirement already satisfied: idna<4,>=2.5 in /usr/local/lib/python3.10/dist-packages (from requests<3,>=2.27->gtts) (3.10)\n",
            "Requirement already satisfied: urllib3<3,>=1.21.1 in /usr/local/lib/python3.10/dist-packages (from requests<3,>=2.27->gtts) (2.2.3)\n",
            "Requirement already satisfied: certifi>=2017.4.17 in /usr/local/lib/python3.10/dist-packages (from requests<3,>=2.27->gtts) (2024.8.30)\n",
            "Downloading gTTS-2.5.3-py3-none-any.whl (29 kB)\n",
            "Building wheels for collected packages: playsound\n",
            "  Building wheel for playsound (setup.py) ... \u001b[?25l\u001b[?25hdone\n",
            "  Created wheel for playsound: filename=playsound-1.3.0-py3-none-any.whl size=7020 sha256=3fe0ea8fb0c22e7fefec21c82dca95867b4ac70432fc757051fd8c3a745351de\n",
            "  Stored in directory: /root/.cache/pip/wheels/90/89/ed/2d643f4226fc8c7c9156fc28abd8051e2d2c0de37ae51ac45c\n",
            "Successfully built playsound\n",
            "Installing collected packages: playsound, gtts\n",
            "Successfully installed gtts-2.5.3 playsound-1.3.0\n"
          ]
        }
      ]
    },
    {
      "cell_type": "code",
      "source": [
        "from gtts import gTTS\n",
        "from IPython.display import Audio, display\n",
        "\n",
        "def text_to_speech(text, lang):\n",
        "    tts = gTTS(text=text, lang=lang, slow=False)\n",
        "    tts.save(\"output.mp3\")\n",
        "    display(Audio(\"output.mp3\", autoplay=True))\n",
        "\n",
        "while True:\n",
        "    user_input = input(\"آپ کیا کہنا چاہتے ہیں؟ (یا 'exit' لکھیں): \")\n",
        "    if user_input.lower() == 'exit':\n",
        "        break\n",
        "    language = input(\"کون سی زبان؟ (urdu/english): \")\n",
        "    lang_code = 'ur' if language.lower() == 'urdu' else 'en'\n",
        "    text_to_speech(user_input, lang_code)\n"
      ],
      "metadata": {
        "colab": {
          "base_uri": "https://localhost:8080/",
          "height": 130
        },
        "id": "pxQYLJOOFb-q",
        "outputId": "763a59d8-1d6b-41c8-f1b7-28e7a252f124"
      },
      "execution_count": 3,
      "outputs": [
        {
          "name": "stdout",
          "output_type": "stream",
          "text": [
            "آپ کیا کہنا چاہتے ہیں؟ (یا 'exit' لکھیں): hello , how are you\n",
            "کون سی زبان؟ (urdu/english): english\n"
          ]
        },
        {
          "output_type": "display_data",
          "data": {
            "text/plain": [
              "<IPython.lib.display.Audio object>"
            ],
            "text/html": [
              "\n",
              "                <audio  controls=\"controls\" autoplay=\"autoplay\">\n",
              "                    <source src=\"data:audio/mpeg;base64,//OExAAAAAAAAAAAAAAAAAAAAAAAAAAAAAAAAAAAAAAAAAAAAAAAAAAAAAAAAAAAAAAAAAAAAAAAAAAAAAAAAAAAAAAAAAAAAAAAAAAAAAAAAAAAAAAAAAAAAAAAAAAAAAAAAAAAAAAAAAAAAAAAAAAAAAAAAAAAAAAAAAAAAAAAAAAAAAAAAAAAAAAAAAAAAAAAAAAAAAAAAAAAAAAAAAAAAAAAAAAAAAAAAAAAAAAAAAAAAAAAAAAAAAAAAAAA//OExAAlE64MAMIG3QgAjSc1qvjDsOQ5EOO+7bvxt/4vnE3fjDkRSoDQcwKA83LF3LFxdyBQURDOEeJvdk/IFK4RHPe6LF7S0yBSvczioSnuCE4Sj3A3dwMDOpoiIEEI77udd0gAXwjrvErskQohaIe7/eoiIiIgALP9/dK8TQtzd4hO7u7u8T9z930Kvp6Of/pRHiLgGY/o+IAAAA78w8PVCiADMS0eqLQVYi8QiEOzUAyOchuG6jSQ9jOzNC04//OExB4lIkY4AMsSuArLhy84sPE65BUBOT45ow5ahfEdUJDjd6Jy2weVJY7yYGEVzOZRiSIMMSy5o+m9A7/IMNo/4WRm+7SBzaCGwryhc5MZdThCaOrYtHdQ91ubUIz2DwIXE4cCJM5JIl6Sb3uJisWpNlR5ykovABJbPw05CtK6u5aFICJztraxgC9SS+3XYG09pHWmNjX+fBYC6CuFSKYCNgFZjh/iZFY+XWjTc0Qeh2nOcZc1chhOC4KovgNw//OExDw0CtJUAMPeuPoO4MAUg8IKvXCEoVDThul7T5kYVBP0suUEnHqMKcWCpP0LYE4lGFphKBQRG9biPULxlsOhlSSTMhSl7OA6z4H4oC/ngp2eNXTPSaZD4Scg9WUb0ZpgP9bgMmYzm2RJ1ZBvj6f7hvJX94bAoHjx5qA8ZFfH3m+HmvTVNZhscfYPqOTggFnF6z5xIDf1tgTRYN+gp8mqTBXeI+rt+/ieIiWfJkoeS9li5Iuz9YdPsdKidFVI//OExB4tknZ0AH4euEiXfFGySVtYDmYk+VPJ24NYikAM7kj4sH7F2pQ3AsDzOdSD34hiWSikZfyauNILQ+T+OQnc62jOg38P942TUfxLx7QY0dSSsdoMKjMw3ZmODEX8YtqWO+xqJufOtvKvoD/EJ41PZHmWN5irfHpCp8x8sGJo2ZcGTgnnhxI6SLmz2g0ZByOCEVDhxZwoLbsI0y6XILyFzrPkKn3m5OwswQyRI4mEIH8b8KEBCiIaQcrh9HQF//OExBoum1p8AM4MvBjkKDP0goSJQls4eCqhzdJ4KCbqy1oT7SNgEtZhCVg2XpF0i6IMd1p0BUjtUVuei9mkgF/JdORitHWsvKwaabDK8Ieg+gr2O2t8mgo6jidYpKMc2fQKccoFBnbGouE9Kd1WhTEDE2yWgrkSP/QZCnwgfFtU98bN/8s+v2juzef/r//+n3vrfJ7M1fe39dn2n597GvSViVLhmQGHyFATV8S1jsYypUyjCYYOeX9iUBK3GRso//OExBIogjaMAN5QuEEcQn2fF7zSV07gmkqjhIMPAoWCx38ZyDViZlxIE+dUAgZIdt33TkALpfuIP03JiMefLDG1KZRe/CrSRunys7p8NY0IqHwi2eAQkFBgmPSjz2HNNyw+03d2iUiNT2FD3sgjktxdDRaEL+Xe7HJR6Y+RtCI2cDRtCflk/3P/S1xcMn2sgmsTkBwwdL5vcp5laqr5c7YAqQEbkbsypsZgjicSHu1G30GQUO6T0CpWGI0EGmLM//OExCMum36IAN7WvCED8PQzDKwRip4ZkGLNlVE85mIAUCUSylz4GBiT+Z0tNQqAw/vLK07sg/lWlcKKf/9lM/3mNV+Zy5ayf534cxwkdIuAMHYWPVKgR3tttDvXcsqVDop5kgOtAoUSEcbDh5hKI5IenEGx0ofBSgfNqefLVzSm18///E/+36//////3SyNm6o57Ze81KlLcfuodVdO++TtAP0qqObnUdMLGoetEHW5Wzgw23yMPDQDYIw8LBAw//OExBsuu3KAAOcavOrw9QE3Ej0boxgFmLhE4sah9/xQRGKi2wZ+Y8luYiJ4CSTTZFRZxxRmzzeGcCz/P/Cmvf/4U05//+Nv9fTYzmPdVYZfLSjcmArQDTHgT1MdHcaOmbLHcgigkcE3SJEyJ5JA7xtNmYkikWGqVQ9jqqVM0ql0uqSRRU7L/rq3dn///+9S0dBFSqnVZ0UUWe1TJXrRRSSPpMd+/eXeo4cn6B2glk3BCqYWYhmIjoyNxUVEYCBG//OExBMqy9J4AOUU3XzNjiFAutJeaGAKMxgZThAKWLDxEBiBAzJoZsXCLNAxrgD23gLAjhsXxcIEAZfTRUsZ0hOxNDa12JnUtZRr6FfdDy8aGKkUxSJkbkNNUSAioqQSMjBAkJrDIuHhcalTguQGSZGPNV+cRK3VvV//62uapj6//+iO0+e2fTfr9K16b1WhrmnveiOqOzGIhkwkbe0v6nuKS8hrqpZLIy/yJpgUhPGMCD+AgGn4xMAUAMwVAdzQ//OExBotvCZwAPTO3UgODB0AYAwD6gixzASAbCgZiccsixDxZQDlAxYuAZRhlQITB3SJH1kFFNFipKojRs9ROJPuRyK3W7G60UFmTuzKWeRUlTM7LKhREcls3UmgUjzKTjwYuYw8K1G5wuCARmbo/Qeaq2b//tTVDT7f//SrjhChjLah/0/Q98+Z+iMaehA49KGHIaXHELGDhUbEDcyYzV0ORXMHB540XrGgsyx31ADBkbzVkPAwJ1NG4JPkAGHX//OExBYtxB54AO0Q3Sj4kOEFvoreFwQMlzlMQQPYUz8aRPgGMgtIFbjBPF4OhBYgILlY8ajVHYuhOjNn03rImfVzdfoJfP1O6ZvrUomE3TLZGBsh4tHC4dUWk67GhqbSCQJjxw0PhBDKLxQd3FVlV6Ug673/jj/+uK+tv/////+XGEVMh2IxoiRRzxH2lT7zNtPX//z/slaTaEQ5ZSsj2Md7W7WZ61mb+6gfYxGPuWa0pZkFCuZIKCpYKpW7FULh//OExBIp2vaIAObauKSQ4lr0hoZBqmRni6duHrUl85mQjwsifXsQSzgxYpIg6Uv3Wupar/w1h7gfnnr47A/f/8Yxz//K/3//zjNqWS70EEC8iXDA4kGUhGhoejSWup2Mx6KdjMdowRdMzhOJxCatkSpaDMyKCSWiafWbrer09f///01pmSCNj6VaZ0ul4DbKKl+74nAJIGA8dnjch5RSBAciqrljOpG0eDhClSyLy56SwIG33hmAE1+MioDrmAR0//OExB0lugKQAN8WmHCxul8t2isqHGCwix+P0003YKiLcZpqSJLyDA3f59iJMHsc3+NFF///0CZX7V6/hIs+20P7/YGIIB06iw2JTe3epXctKTO0JBNIQERte1nT4HcbqS+pSkCKW+HXDaf/UbOBkeGRdweEQhBN/3f+iDgQEu38OOLtAxsx3/L86y46kFVdCYq/wUBTNb8FYqpnrT5DgUwmbTkpYLtqee/NfRgoQMWjsM15OIBAjTLYc+a8cAVH//OExDkngwaMAN8auJb+nYzAvN/qndb+a/cWncP/+WP/1qHG101h1ISnRMUTq6klE6p1ziKKRqyA6F4ey3GGHYRkexTUkk5iM6DupJMjot0EeyDf////qrU6rv60UHSdM2f6v/ohRLYYCv2iUqQMg0kW3jcoXoHBk04sguklDpjgkcA6rRg6aR1BwoZLzonFxbkRcIABgkDyy1baWCQMHH0sd7K4ytXa1cPu077zHO85Uh3H/1hKwme0TOd71BLs//OExE4iugKQAN7MmGAAJASd2ejVZ2yn/7tWtnUFMTJlkkADl73jXjE1a/jEaJLYKjjKf/+kMDxq+065///oUkQkar783QG3FTKrWux5kJjJibIMva8zLjBB41S0NzLBoWkzSTN1Rt0fOgPC1+N3MGNISQKDLugFQQKCAclLJOfK24MxXtDVePv/J5DKqP8py/GaXO3Ur01NpBaW7tyvGGMkqQCxhssH0zS0sl8yeThUqvKhtnGBIrUl3R9eqj5V//OExHYlOfKMAN6SmBeveKhke6sYdbPf/50qti36kh27//1iWln6ytAFU1WZrR1hRgxcc0VrNacmQZWtnIgppAmlMIQkxkpOLDOUrNYrV0EHDFIDGJwcNSQBAIxR4xgkxg8EDVHkKDElx0UDgTKqR4HRkE/XjEzQRqlr1qGrnXqXeXrNrZl3Pvg46iNikfCwBB4SnpMTbtlPJxyeV9hHJkZGJ0JdJme75QvPWXrCJHENo+4Agp//4ACogWh7hAVO//OExJQoOeqIAN6SmB4t///0onHFligJRdKORGCioFj2WJGCAYlFxkJPYDUGwUGmNk5qt2ZOgDQeXMMcOhLCMqDwwJEAACoBZ5xS3i8zT9MJ47dAHMc4qKi6mztKZw67gx2Syi3ZvTV3HtutVsVNUtbKvbvXNZ3tY2a8mlbcaOnfnesM8d2bv97jvnf7l36nAkxg45WM69Ercy1Golpk/oiMv/////7NRtCs9//////03///V57uHTiK6olXZ8Ig//OExKYoFAKEAN5K3bJ1Qt60ogCTQpoSeVvmBIRzhicKcJhpqGIMw0fkICYIBGMARlIIrpBoyyIRqTQFTDhjbNDBxRpa2dpjFVhnGijtyGmwm6kardx+/b5l3uOsq2Hd7scua3W+xJo/TQLJr9XVzP+fr9fl+Wev/OtgBEcTXtX6oRDsCFjHb/2dkRf////+/UqorFS9u//+6f/////10rDDrZmTVEzjXQLbkreYZK5oIOqrAwDGRJcZ3IwsTlpm//OExLgmrAaAAN6E3B0WgoqtgQCChWAwCQHJPmHj0hTOKgsAIQ0MgAxksdJNYsojjd4ekcljVa/dnv/tjLdfWXalWzjqz9fPP9VK9Wbj0CSmPzFFjdt48yw3/bm952ct/ST1UY7q99LvnNoQrGP/7VtX////+/b2RIsyP//9P/////9K0WGVbapuKYAgApkV1mwAyXuQWMmNcwsA0EYNB5zVJonI/CMfgoMQFAxgxobkYoWt3MLUzLAlCSpsYRwG//OExNAmC/J4AObE3fBmwCAkLG+nX/RObbG3OZ40Mq7yVy298zjvCks4ajNn7eH/9Ly0Tx2kEyC9hIR4lA1Lx8zMC61E1WtFA2JMujxJwyBgiEpFFlsk970TyjxkXkDUyNv/W3a3////9mQs67JJGJg5o+9idZcegwOYGP/+sJhACBw18WpeKVgVCUxYicwpDVN5VMw1QwiDprRgIYZl6bRgqBaKRgkNYsNIoACBxh2Hw0NCv0lTmFUU17CSA1St//OExOor4uJoAObauC6ZerJN5VlgXFllR65DrtB/1Jzf3Jd3du9+5dlvchx1uW8x5TfagaVSyUQbc3K8P+h536mVzT+S/KPROYoCAepquznUoqCIPmigYGo86P/5xznWX////oeaxhhytZnmnTUOnpr+dRDDiI1PNIi2Yy/////zayRp48ey3/u7lR1+1FQgTG7CQd9B6EAWBJjhbg5GhQQGEmKdaRpEaS0RggMmHAWnikMYGE4QfRoAmAgQd4gQ//OExO0uRDpYAO6O3DvYaQRZJPtt45K4b7qWTna9Nhlhe5cmdWMK2WGNj6ebxw3eyxr6x/L7XHRg+xK3Kt02NLjre/5hl23L6spdqXW7hgM6Pb6qKocRYSO7J/9F9f////3o6O8xkKhhZXupEP6O9UMYxnKyOYif////9lKOFUFnEmjG4Gydg0wBA8wOGoyhwI5xEowMBEHAiYDFSRC6QhOMhYY9jcYEhEAgMUml60pvE3yIgZQaYwaYAOYuAY5+//OExOcrbAJMAOZK3RIQwhkiBA4c77lSeURhwmnO3YlT6z301+gl03LLOq8kp98ldNQTEOyypljhnjcs6pvqzVSzfh6Kz3GPLNNdixQcODQ+cLyRaatqHItnufKITVqtt81Zz5/7/b9fqxqrfp361ecyPZDunu6McccjkjzrELb3Y3emKNArnqApkkoqCmwYCDRreXHE0sEE4wKBFKzBgpDB03UwIMQQCUEqr4y0x62gMyWCTfFFpmjtTCgOkxRp//OExOwt21o4AO6OvPJZiHnYceAmtwO8EOMvk8ZlGF2V2pv43F6TGWTUfnyy0lYb2pd0lsyZDCIeUKNmFLYju/GlUDTcBSBSpWbd5D1kfXhUdjFsoZdTQjUn+iotv/MHZSP1M16lAPu7mcVeBGf7x17Vu9Yf9KCzW8NuaF/fYLZ/mSXtfW7nNZL1AEcxgZSL+mBDMmLrMuZyqVuCdRe9pDjTjYGcvW/pcUKqgYvY1Bd6cchaavpQOHXHikidBmDf//OExOcsGeosAOYSmTqtnwiEvynZq7frWu8mIlSYs6p4lKrWsfzwmMcuKRJQkSZIsRnzIxvLc46FAbUmSpZbu042xeZWSxyS0JxtivvZmiXymyZbGp7Znvw3//p31203CBkVnBumos/ffBAOfCVnPLdpGr/f4FC9GbfIJdldAIRGX9vaNCsrZe1pMgqxFyZ2tRNicall0Pu+o5k85Zlnrc3sCpC+Uqo4hK6KTSh1o0yqzAvaKU1efZppVjWo8bdN//OExOkrKq4kANYMuZbtT3KXVX8t/u1b5UwwrU/2rdXPG9lUwyv18KCthbuUut3Ez2OvJliDzKHfdyC4bYZ3eRp+NjqqIjoSzNmrSRd0shUFZYdJUHm7rQybJOnqNRrqmO22UV4d6d/0Mat757eMYhGxlt69Z8RWp4yVT2ympjIvZm2zfsH8yH6hyaoHQhITav1jhUsymX1Ka5RyaPPXDFLJn60qoWGrdSrETQ20aV23yXgYb1mOqrIlYta4iWSx//OExO8ulAoYAM4M3WuUF5ojb/NVSFGEJ6D0lmNYIblU22UPzNSpKSFNIpGe5xReqtvPP5p7w7MuahlnfuYaaU6GGgTLi1t0E4gtF9krDozEhroIJGkqyaSAm5RHsg+Mk10tIpO0Nk6KUZNt5JRYmqco5L0HRut74aRP9MTvN0quIrGSwuJEaEIu1SbiM7iudnXu3olnDFI/1yRTlDBs52H6BsILGh9VAcjgzFh6qRFOVNTRrSzIN9yWLut1oYSa//OExOcsTAoQAMpM3WISYlGT5N4iXYXxonh7O7q8+WS1BN1znCZUqMWss4wuIe3xmM41Iyj/kTsnKLZRKoZBaB5ZQVxtU7M6SEKcGsuqIEmgyUYuGsuNsyVYhIcsbXHPhLrLj56UQOTQMdA8012NRma5UkkVmmVbKIAaBI77KTJMihiZGZeolXSxRxdQVQxjJ2LU+Na3SSuKw26EOTOd/cqIxqI4SB4AOTh0WncY73f9Mn1xOW0IwptuffOzdxef//OExOgtVDIMAMJM3dvWOMHjr9+6mQsLKOUnbxxsdalFd1EvT9AVIykiwIAImGDtSNXkzyHLd5XI8HwHScIHdKaKYMGWd6ePXUkpFIJmWzV81MQg1OSJTIyeFXjqUz6xEj1GdlObmt2E1G6UZq3Vq98i4RhFwPcZMEQN4YM2fViERAzBAHFASPLJjKc0YsVQD001rsOTGEAPoIgxjTZyXZlNhzGRoAGw0Z2wGtMsE0kgECa56AYDKLbLXpUF6FGj//OExOUnM6IYAMMGvVjhIEmfMAIuIj6aqI0GqcASD3AcEiSxYwgncQ0LlqZJ4mSOWzXUWwhDdGPLcRPgJENT8GoIzJBLQGYcBhFNC5jHY1Sy+kzcCTNbduLwYzh0mCR9kDBGlvUylk7tFpC0hdhu4iIbAMpUvdxnEAtPgB/Wvz1t9H5Z26DOIdhcfWOqRYj2vsoAyyMy+CHXyhyC4XdtQ25bWKseeR02XySc3y/jRzP0HIbhzP6TdbcvvxuanM+1//OExPtQJCIYANZw3fKxbs269fuHdZ/qk7K/t7saqTFic1UnL+GdipzPt7OzhUxqTmrut83R/ljQbsWN93d1ewr5/cvZdw7vmNrDPfLeWdQsXyVmaq644/M5WIVAMUgGOuYts8zSLS/Zgh+vRJwkBgoAIkhljA0dGB4GMm5lnDPtDYi2cwAhm7JVWNfGij4SdpLtqCIJwMYBBIxwp0AYHBzdFBO9MdsQWCNAZ0XYGBCrUPHluGHMpBMPa2JB0HAU//OExG1Ca0ZIAMaevAAMUV4uxh6wid6gbxP5OIQ5LyNSJCy5oNX0HrOcm7aXM4lRpQgD9Ki6nsuhvohrMhgOA51cfR6IQ609VJOzTVx4ItXnIjHpGjoZG2Mz5hNZ/7V7m37LuokMVCxZ82s6njMDJV+7ZGRgZL7hwJtWwwQX88NcODy+KRPqVz08+8Zk1vz0gUr74pH4RUxx4vcfE48u/UkQDjqnEHTmUIJbf/nfr6+Jse2BHCugJoSEAE8OEMQG//OExBYrOwpwAGYWuAqJqY6FDCU0kNi4EHrkbd4GmNu19eUM2IjLZVNtfdhEMQEDEsMaKw1/2YPvQu+0N2/U6ZKmPE3fUEWDHJmAWPQ/GA2jcasXolky3LITKQ75NYYgSUpPElYrIo1EU8Ot86TT0Nz6kq1aZFPGA/l+Yr5U1j9rKcojRsyOCZo7Yl22038cbkop9P7pqb4vl/3TbrTuOMGCb9WNuI+jITGVGYHITne5d7IGKrnlTyvuvhmrDGlv//OExBwtYm54AMYeuNPK+T9A0xe1CsqgMUkTGFR9uyrncirtrRS0XpE3gdx01kLEb9er6Q04kMSyaqPHK3ezeeEuW017XMXYySUCxuCvboLbDh6th3GjR5YW7ePXEfGYzUwMV4cGRXNTc4NjqkdkgUiVrmM3Vra007xlmntiNrM1d+DWDm9s+9Mb1F+I7zKVuD5UiwuD6jhYgBAsTUwxZEyBfc7//rWw1+kUbMYlPeINEDcluStoWuHoIQRD78jA//OExBktmu6AANaMuHMWMAyWRJMLyL5HCOMXfhdJmoxgcBugIBATzgGFUhk9g8/ExVSdFWZMal+mEFAZlEAcQlczlMLzpqWvLnTcOnydKso5DELfx0YpDb2wBiw6K5Lg7fp66/6lRvuijrOK3RIW9IcgIGNpknlacrDpZP2EQ9kxdxM6+x8//+Zu9sz/////5/3/+LT33J7718iLq1a7UixMU/+30JQRGNMq1CrsoW2di6PB36mXRHWQmxWpJaZk//OExBUr2gqIANcwmCDEuZBCsy3BYEwOCjnh6MhAhiKKBUBhjJMhAFQ3WhYSNFCIBiQ/Cn1omYhCZxHokF2WyYhAgVBbaQ1eyQnJFtvbsQCsI/cjlODKk93foobess0GEYg7E/yfjFjedp/JRY/VukscytSzOntR6npMObi1WtT2JqvMTna09Lae7uvYsXc6SrhQy+/anbtIcKARDhT//ZjTAiZb/3013hWiKWxg+IYAERn4DJRgBg4sOqXvw35h//OExBgs+haEAN7emMtiKSBR8DhQsAJgg8cupHnBicjyx4GC5r1edemgY/aY3EuUbwdgJ3QVT2MdMDOTwy0CCABrt56Uqk03foaCbhhp+fJh2iFHi3xW0cJol+QxCRXgCIBJAGzrPFOmiulREalc3qeNBlTqyr7wKvVMjPSdOq5D47+jXbDhpFM7xscpGJrpGjRnbhPPhdLK2yNlmGYHTYt//+3jF7EK0qlfGs+oVPA0mW0zjLpmBleZoFyPdA9w//OExBcqWw6EAObauFAOYyt5wbKoFTKnAQaYCcAwPVsdtBEKnJqgcbCCukyNahg4gYaCDQbKvswy7rTZHqtK3JgKWayuuzG7GPwEzp14xyk+CS/D/xLh/EYB2lNkTIlisuHpiSJoXz6zEumxQYewnwXodpIFEzLqBeZaKNaFIyLx0uI1sXjMpoostFFSS2o///////ru12UyKCbrPpGaFarJqsNKqmB44GXo+iQBV3qHQDMCghOFg1CgLKypyIhG//OExCAm8d54AO8emFpcnN8UaMCjLWFJWhUDGJ2cPGADARPYWAYBBwKBQKF89nQSNeSdc/r8I0yqWfvGznFOa5dhmxfMjCEPMhaq4BVAD464MHEKV7f/5g3+d5rbXzhid6xKywIEP6367/+LS/4hPWxQ8Bf/7Wf9IYDi1C7BOEAA1n8z///ueAWZfuUO2jwYLKp01CBAbawtoQgMwoPj9NONTAxGpkYgEg4EDCD/PHCRa61IQoaYRLBsNCiwbEIJ//OExDcmswp0AOcOuA4JKZVzCwWXZBs9hZoFX4frcEN7hX7hm9d+tYzX0XJalEXclagKXsipefw0s69DmfOf7epp09R8oBdvLKug43OFTfM////9DU3//ol2u1qIqGGGIOhX/6FdYqhAhY9x6ZAZgGWP2aZ/WXGCAZmrQwCQQw+3VHQKiGZMSiIQbUWX8IQcXoMMw86IGVhHHaco4FQWZJIzO2nJQ10eioYjDQJS7p5mCWFL2pO2NrYjszL7dAk+//OExE8j0gJ4AO8KmCwCm4hZssyL3B5NBguqIrnv0+c3x/xi+IgE0iuKL7s+4Q1ooTf//yv6gCcJ3JGNItI/648RvQMLyI4yGw+MaepVq3JW6CW5gpIGfD2go+7WwsBiAmmK8QTJdikSZMlgYChpmIMrEhu/GxHKdALFZiXvXdAVQBCT6dp51iG5sb5b9RqUJyGEo7lBAkysOYL6tMQqS9/FyQHz8fuU+X9/Dmv/n63+v/DX//////97//do0ziY//OExHIoM858AOZK3dAZ7Mg1mkOMep4waZyEv/////v//9jvSSyrW0kk//73axVORFdBxmusr0MYVuztw/dR/zBCqM8gCV1nKFAaZ1ZZyguhwMfuKQ2YAAh8xJ9wmmvN3StdXVy2vtMKRY8pn3ViXkldK9v+XqMQWE8hos4RGwJGs4aWEUGbyjpHjUDavrLf8y//3nvH//PW/7+q/dpBAOCZECRCCxSsdGfncpVOHyiRk/////////TsynRUnPDg//OExIQmU5KEAOZKvJsQiNO9apzEMRmMwqPirmEiosBf5RW5T0jthYEGCnYocle6EwACAcWYpkAEulM6oRo8DybL6Brtn+ZwHDV/n7lb+3+fUltrlzJw19LGYN1sqY6SkDS1xJgKIAQWiL/k8rnZ7uGGGfMd17eGvzzy73XMO87rPXNd73DPPCkll2tjZ13We97zw7c1UvX6W/bt12Hf///+gaHyKniEFQ0+kNKLKlVfsbWchhizw4e8BmVAmt2s//OExJ0mqf6IAOYwmOwuc5HlGihFuzKABeGlgw0HPzalCwM9Xu9qOrh3HOKRbP///5+duzrPCpT38cqkdwfWQ0cCKbmY4cG01tl8J/K3nUpu3KlmlwprlFDcsxrxCKWud3bqZZ5161XDg0BYJAyaPlxIdjCZizjDXNIiQLVOHR0fKr9UbW7f////+jfcgg5PT//////9KDzjo0MY1TTDlKHLNaOKOUQaar1SA1kCNVBGwChMcBnhb01eQBww28CS//OExLUnVAKEAN4O3fbgJFU927NOzNr4cJr/539e7zf+X1v6MDNuuHhovs5hD3LsqqzSx61xTesXnjatfMOlcXyqFViHeLGrLlqlByRHBoKwejUdJmEh0sYw2Oc9BGJEkLFTDkuzso64+aaPOfON/////vd7NJqNTaf//////TQ5R88w8ijSmr5d4F1Zrb195EkzFg2P7EEHGgwuCWxDAYNSO8SFDvbiQMGS1q9ewmRQZ1tIO/vw1rf+UTN/23eP//OExMol+8J8ANvO3dsm39LiLj9dkGRzbDYwC9qng2Px980b5/Tyucfw4CtQmnbhCFNXVS/vd9QuCJY4weDLK0bqlAjGuxRksOK+pzjcyDwuYNTzHMsr//7+nrRqu6INjyxMurP/////RzP71RDRqNCBIochdHHSp+iEHLjscGGLsHSWGA2FbMZZlINBxhgLEwFJA6etihVBMEP20ExaJSIAyOrWHQITADuGT1L/zzyruJjruK+sP/3gtZ9+PNAw//OExOUpNAZwAOPO3NYwEy/C/bnBKj6ZPpLjVpHuRS20xhflXPbR5VL43R+W0bTWM4AvwPALI75c+muUFG0lS+JYkVEtBGB4PE4YDIm5ikmQw0SMDpMFswMk0ioiySRPukWSLjmkXKhZJkvoDmoLWTi6r/9XseR1HkVMtSC0jA4ZImZfIOTJxM6ig+tN9166b//6DILQUbp6kGWgugUCLucLiDGxmX0jVRoYG88smTMulwrpmiaJ4Q+rgiFwnKwU//OExPM6PCJkAOYi3EMLgdjI6DTbinJhU1aXR0CBtGu5yvBSeFJ+snWw//z5//JYpvvaz/2/+5Ac/v+vFy3nWSqWZGKR+BVAMcXol9qoxlr8/hLVVVr09a08QQB7ZIyFNFnT5U9yIwiUZa3LF3vu0EUCIBkTzmxeaMZB8djGuJTVpfnb61T6ZIH5xZCypqkz/v////5ub6N33ExT3ttaKuWKGxi5avvvlj6+Jj6///v+J55dc3//aK1Wced5p5zc//OExL0xLBJ4AOYW3dhrZqquTW8lel14DYEFhSaeRxMEWvphAkJGCJIZIDTEYAillFrDe6jE95zk9XD/5if/p3f+aLf+4LVr+RPNNrtgIZW3hF2J8BOqqLOkzVS8zRHCSkXhdsgsSJatv3qli4tbMWHrcFMERxw+AmC7HTZpbytrmnKf9ZIrFizlqr///7amTjGah/W7s5pxMYecRkl7///f/qZMOQzenucehVyChxCaz1JGkoMkguBICf8kCjIH//OExKsog/6EAOPU3XJQARADdQAAGlmw+arfisusz2NqURm/7yxf8QIv/gMG/90cv+8Zf4bGX+O3vzMBMB2usNLOMJVV5IAdBbJk8vk8vF04yyIgyK3NUUFpmTu0uGyCZ0yMy2tNJXM9nWfZT1+ySk1vr7f//+lWpSFbU0qan0ForoG5JRlv/olcc7qLoDgRUYnokBEwZZLFaZ0S75pUVCwGBIJQHBUSGPKGYyAcNTbX1z441N8TO3sfhkI7OE4a//OExLwksvKMANvauBHxljQ9vi+Gr2pms8V6ujMCsORDWqET84xNAwnI9DkSp1QWReIQY4BUFANhCIkocxshIVWaq2OU+xzMx5hYwgGZIPSxY1qPqqmlyEmJidv56JnKbp////8808ilD2V0V0QgJHv/+q9HpWE2nRaAURw5CJTDz6rDDxhMtgIRAUoCJiEVm6Mkd/Yw0lzAACMFB4xsKg4RUjWwoApStaNzD2JJSqnXIkIveMz15w5BMvo7jR5W//OExNwmwu6MAOPUuOPAac7Dn9m4fVIq9gr5OhAcca6y1rj4s6fVqMoed/lirdR4f0HVJRyMUkUFpGrIoOiyKaCS0E1JUzi2KBFSJU4SyKntR7mJmXDZJSS2r2W6Rokqitk/////uxoibJmCSSLIILOEsTEiJ//OVPaYERB4384OQfjSQpFVnYGkJgMgmszoGCZQ9yDD8TAwZGiUYDABnBUGDz6DiS9ChgsDTAgDU0LmIWIAn6WO4SYMJ9uy9WDL//OExPQuou58AOYauP1h3KZSXHLJo1DySzyXzRm5xCTTtepA1ypJ6Wih2fmaN9oIkU7KoSwlIRxmw2btal5vDL/7/eb5rLWX5f/OaxFjgEOCLPT+6Euif+QxtWt////9WiriA9HFykFzjhABhZhIWX///////+mrOxzmFw4RxEKZGZiqoHeUfMUwcxAC0HRQOGbkMadNCJJhQ4HHqUeJfhoMZCgMIgRK0ygKEQcOkHVKAYgtKulF8wjTLLkoES+a//OExOwrzAJ4AOYK3ZwhyBBibJjEupXaPjvs5a7LpblVtUtmdmb1+XVq9etEZZHtTUCLSduGodtWquGPN3v7vv/veH4fnjzHte/csBIcRhZluZGpaPR0/85S0e7r////9SHiY5mZTsJA8OoiFMrPPb///6///2V9VE44SZQ+EAm5PpqLOiCQQbkKpQigABwqhDd5VC4GFhAM8waiJh8HAgfmgQIpGSGAAwnZA6yTBoACIu5DAfxzl5mW6ljxgG59//OExO8sY/JwAOYK3ILRedDiCApqzsMRbPG1KdVLs7hds53Zmxepab94ROAH6jMagems1993y7vvdZ6/vf1vvf5jdpOUhcaDrGqcjsz0mjJx3/6oc1lPY7/r//+5ijUjOUhLnFIyC8TIhBEPLIcv36f/9XWa3/6HrNPnkWPRCIuURR44Rlf3l/aek+claAGCzPTDyOOskoMBYoEDJufIl4hgYTXoYP10tzBxGgWSgkQgYEtqm0DEyIGqFi01lgwa//OExPAuBAZkAOYO3DgMVPmEyWFzkxK+Xq3e/jvdbLt213eWeGEa3jVq3pRN18pThvHXeb/+4/+GXM9d/88vnrlsC4jGop3oyscIxpz//OfRavnKi+yL//+pjKdMLqcNxqPhoISImcemFjzlOP69THb/Pa1Zi///NSpxhxYXSYEhOaJZC7h8RXVHgepieaQoCDJADgrLgibKwGBRibBgwOGQYQzNQvEmmy0dB6KDntqCh4xOoI0ET3Okxt0skWWY//OExOssu/5gAOZO3KoMHAkme6pMOlXs2qXc/hn27jnXrbzx7nbn7d379WzO1cIapKeV71zndZb//5/8/D//KtuamDhePj2KdEa+3/+nMaq09////qa5qzlVDR4ejD4WUHxMdn5r9bXU3U//pMt/77to6nIaLxoQEYXxKG4kOQ4cUbUab6WmAxoG3IdBTRjMrUBxuMBAUwogzWhPAwMCoYNAp4BG6ARQGgIMsYIAEYfAimy0wTBm4iMqgMIZ+0Rl//OExOsrxAJYAOYU3XBrXWYP3VkkfmIAuvvRRyW1J7CrjnyS1Z7COXJRLK1/Cn59x+Z2MwTfqWNf3//mPP3zXef+V2rh9YHxdDh0yexzubSaym6V/QednTOdk/9v//saZNNNRHOOOEaeRY4xD0/X+6Nb/9//9M5WNYkOsUG4klBQHlh45iyTuRzdCgGpkFpU3h8MiE3mAqWLGgJCDIC0yACATMY0emkEKYC9y5LHWjuAoklqFlo7q5fMWIvGniCr//OExO8uRBJQAOYO3dyGvQ04cljUtmWAV5mXSiH9t7QyqnuT9LWn44/IfgDicOshkXElZp5I2ltlrieb0b1F7I+myzew2fRONZ9lRTedvVVEdr6J5yPLG8ydodaqr9tFkrJERKUPB0FGD1a3rjXg0Jh/9KkLfepawEssBWIMFh4QFAmeMiYTqo8woeMPCTVBtjSZYCHkIgIBjIWXxa/K1sMJZ6OChQM4gwMKWyNYVFdWhaUNts5TR3QUBZEsVrjl//OExOkqghpAAN4WmLMlSNvAUD0dSALXJTBzqxp2oPgln0PDiOpsmaYRQWa3D20bRKgRjjcewmKqEhu1ylIceo3tayevtw+t61u7aTXJtLd0jsB8/XJhpbtrA8NyljlqvON151n7jwnTbls3vKvS5qzDrRW//HUXkueJBqHJ+PzC5fa2qcYNl+zLDSoAVQgUsNJC7TPjaJeywtKgKBplakvnmnIcTwLwgwJEE8iW+AjBfRhA15xX2nodnqVgUQcp//OExPIvShYsAN5Ymc9aLuP1IovDshf65U+U5Z8rxG3QNJnIJhmz2ms1sOWh4zmw9LgTHKAkhDQTM05bNCQSIK0WOk6eWu/p1WB1UMsswmleOnv6sdO9pXfVRNrW93XCSTVVrJRzrcbPF3XJ0cJfScjpOXdIssVKMIm18/oISvev8pEnPeBAvIdS50I0RHtyxnMacKtpuz+yxuzXqCLYxtxkUl5pINbEdJKyPCFIbNiEpmaVdF9S0ZuVW5rR9Z1C//OExOcswuogAMYQuY3y9gzQG6aNvOIWIcu4EmYv95JXs3VrZ4sGNGhW1iSK+gXxPUWHDgAEiuU7Uc+wEFaAsqFXElIVKEUWUw8PQGGQgpm1CogwUfQCMqYdAY3JiQazN3W8BsbKpt7uD5DJzpKiKaGcNtlNVdampEbZtCSG5QzAAqhSUOo/cK+dPQ0bnckT9zMYr3rNmVVLcoZ0+r1y+BKRYIf4Q9JpEhS0gPaoR0tOl7BysPvW06V+e/ma3vNw//OExOcsLAoUAMPG3bV35xd8K3pYeXOL6tZbly3lzHMM4xzE3+udTlUjslityIqs6Jy90q6kv81IQzHNS5r55VZM5esjLcDNYmiHKtkG0seW7pDQpk6zZRW8y5nakqusnMaVnSsoudo/pVDLdjimROb1W2VX0ysPksvSHrqKIEzHtDdYtoNclua0JRdlMV1HKk+6aet4Z2s5VesRCgiNFnYUTB0hyRJfXgCglQcroomlQWRL5gi00bLNVAAO0coD//OExOks5BIIAMMM3XFUSvQYixGdrmJlJhiQozfpwQ9xpZJ+2aWcYbRWwk/o8Fqo2FnfRWmySjvkqNhz1ETOXsyaBlTRCXM2DMEReqtHIkm/uXZCcEyRd6us6JdmTvwxKTXLxrKvD6mi/KUpFUSEyC2JPkMRK2UmizjWAxJq0w3IvGXiVyyOXzpR6idWvUpO3ubpscKluvbxqRfDk5RGnpGoJ4Ugixr0AvOEScfHwktVpG7YKekxg5dmVtkEwQ+X//OExOgsnCn8AMmM3dYVhSr+N1Vv8F8+yt125W/RWczXlXPr7/aTO6y/0UJS2IdmtdGbKoMURhkaGdzIUOhJB0ys3kCxfThIq6uZ1cvFGy6szGjNzKRSL9zbeqeYyafbgqCTZxkVu5NEhiWpc00CrEUGJsZMOINGZlVZ6PwqKRM/LaSmt1ZDTXpbT1anI5z9wzOzBEsla9FNaLqnkAhRg6wSzSFaSsGWoRYaST0RlVZGLZPI8lz7KqiY45Gi/b4m//OExOgpVDH8AMmM3cJdRldkgWF8tdHjhJqS17Gw53Y1jUSx7E7Z8SIgg6j9iym20WjniZOQrDu5p8l7zTCiDHFgxMiQYSq1plolmYeaUY02hpRKMJ+DS7TojiAU8LxztommVXoqb7Io4i6JBbLo3tv/pLoiiz8lOaPWc1JLEKOlXNNFFiuJcv7qyruF/Cdr3Mqajrcv0/LcxEhQSxUmKL3iBfmhKaYJSxXCwwSL5NaKqWQHCAgJjko684/xQmgJ//OExPUuhCn0ANJM3WWYSbmKl9QNNuURkERkxckJ4qkmAIHLZeFaXYNdJ8cuVWx9OVgw+0XZ2mISNSLRbLS953snNwVpNHbiJEylF4St1FgwZtd5PVRPyuETvXKGD3MLtpuXfPq4TOuUfTTBp5hDxJ2dOMxfZXiSXyq1k/LXMLiHhpPtFyuJUtZXMLVuveylOdyDr27mOVNVTxETICw2eQ7bJOQoxSG0pth4SqGy8jslE77ZpCpBE1JtAfRqkjjL//OExO4sxDn0ANJM3GqLIZpvSm4VYs2RNIWkGJEbCGTbCFkiOTfUjiCSBEjZ0E+7hcadVWgWmWiQwh00/KZkkMTqDjsa7ljb2zCidJwXWUQy6+zXAmprXZmq4U2Alrck0vcmTDKe7G/aM1Zrkc9ImNHMsjs9vnY9pMFEWilu4fL+pYSs/HtYWGUr41jnUuc/VrPHeH41c5+zbqOipNEwlGROSFi5pdY6m2yQTIHd6JliGTIpPQwRUu/CrCFNvspx//OExO4trCn0ANJM3ZkXQTVNFkCbdpruFkU0VsloMl+CZhq00EfKyi3qu5tVqco83qy6ZdRWxj13d9ypwoqbdDa7mZd4mbBiSGm27ufmH68/aJAUPTxHIwjKHfCqvLuO0MU17+G+cqrlbtcOoxqqc1RSMsW9Zb/O00zzEPPY1SlJN1ft2KWze+5E7WUe3ZvzVjlg8WFDRLAVt9sSDqrAZQNA+QtCkTMweoKTIOlTAoiQkrEJRQAmqoBxgdSIqOnj//OExOoqJDn4AMpM3AOvZg0TrqkKDdX1HqTDUe93DzZAwmaAJBiziQHzUTKaqpNFCgfZus0naPZpRk0/SQ++8JyWBKdA4l4QVkEHZatMKLo5zY8JudUllaazujZU/DUTbh9t31lJ4oCCkTE3xOYQLuEJYD0fak3R5RBi2WUoI1xcplzyZAyn0kaU5hYnEbmMamWt2JruGFSZs5S3CrK7AuWniTp1BQyYgseJdNiUhI007eSE4pXPqEi56kr5knmS//OExPQv/DnwANJM3LApJI2oHy/RzJDQlS2FyYLpLME6NREvdQBvihST7tw6zcRgGTMqD/hkbaX9Dyi4LQJ8t0tc+kq2yEOy07RhLTDcZbqPogUurPYiinEaUfmwlKydGssosRdwka207Nz16Wi9GEqfCnL5N/DuXVua2GVH8yR0ohB92urKTeFZNfTXzm0p1q4f3O/jrndX6na2WNJlbsa9g1TUyLkr0fqZwH0hWjG2JUK7VNTSvIkKAgbxCygW//OExOctbDn0ANJM3ImYm4Ti1SqHiWosITF4m2abYTpuaaO4kEWcHszMK2aVyd6XGp+/hT1BTF0lv6qkyKXhT7tNn/x3jIc++97ENGdlTWqtAvxnZIuNaL+IeoYr+2k1u7579T9Mb/6X7/Rizr2p1io8fdNspM3/N/+1nv+ejSo8nQxNsTBIJd99nkicIh/KaisvqySMxW9H32ULh8UIkjI+wsQ2o86ZZRhlwlA0IRMRLHwqsJQVKHaJB5EhPDZ5//OExOQozDn4AMpM3HDMLpclZbfaUlbcqSpJoqcPlORrrahSfI0WiA+FVhhZ3SnrWyjxEHnGlHWTJVklM0+zjhsiKTEWHSy5kuWjorLUxjxNJyDyoIFyjDyjR82adiroSrObMCtm80zSaVfMKrDnDBg1SBB0ofb0VnA8PO1JEVhqMK2pQ9HmrjeIZ0GEE7KpI64z+FvgJrcFNoDXTBTjQFA0RnYao4zYhqkjVPGSgmITxE4VLktNXnjktVgiTZiz//OExPMxNDnsAMpQ3ClaEsbCq4ZLPQ4tNDbNf3jSexjWxzyppVgVJmUS+x/lsYfLn+tJqsaqFQdf9dYf/fWGFRq1UEOFQUFcuNVjQwqClQyWOJDOJDVyak1Joaykyz//+aw1ayGqCgpNTL2pNfpNrtDqw1jbOsaqGQVUSWlMQU1FMy4xMDCqqqqqqqqqqqqqqqqqqqqqqqqqqqqqqqqqqqqqqqqqqqqqqqqqqqqqqqqqqqqqqqqqqqqqqqqqqqqq//OExOEnhCHMAMJG3aqqqqqqqqqqqqqqqqqqqqqqqqqqqqqqqqqqqqqqqqqqqqqqqqqqqqqqqqqqqqqqqqqqqqqqqqqqqqqqqqqqqqqqqqqqqqqqqqqqqqqqqqqqqqqqqqqqqqqqqqqqqqqqqqqqqqqqqqqqqqqqqqqqqqqqqqqqqqqqqqqqqqqqqqqqqqqqqqqqqqqqqqqqqqqqqqqqqqqqqqqqqqqqqqqqqqqqqqqqqqqqqqqqqqqqqqqqqqqq\" type=\"audio/mpeg\" />\n",
              "                    Your browser does not support the audio element.\n",
              "                </audio>\n",
              "              "
            ]
          },
          "metadata": {}
        },
        {
          "name": "stdout",
          "output_type": "stream",
          "text": [
            "آپ کیا کہنا چاہتے ہیں؟ (یا 'exit' لکھیں): exit\n"
          ]
        }
      ]
    }
  ]
}